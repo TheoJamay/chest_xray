{
 "cells": [
  {
   "cell_type": "code",
   "execution_count": 1,
   "metadata": {
    "id": "cdw83NkX_kPt"
   },
   "outputs": [],
   "source": [
    "import os\n",
    "import matplotlib.pyplot as plt\n",
    "\n",
    "import tensorflow as tf\n",
    "import tensorflow.keras as keras\n",
    "from tensorflow.keras.preprocessing.image import ImageDataGenerator\n",
    "from tensorflow.keras.models import Sequential, Model, load_model\n",
    "from tensorflow.keras.layers import Input, Dense, Dropout, Flatten, Conv2D, MaxPooling2D"
   ]
  },
  {
   "cell_type": "markdown",
   "metadata": {
    "id": "yybD91zEO0h8"
   },
   "source": [
    "Il faut modifier le chemin vers les dossiers train et test"
   ]
  },
  {
   "cell_type": "code",
   "execution_count": 2,
   "metadata": {
    "id": "OwNRJ38o4KK7"
   },
   "outputs": [],
   "source": [
    "train_dir = \"/content/chest_xray/train\"\n",
    "test_dir = \"/content/chest_xray/test\""
   ]
  },
  {
   "cell_type": "code",
   "execution_count": 3,
   "metadata": {
    "id": "AxCVEjz94KNX"
   },
   "outputs": [],
   "source": [
    "train_datagen = ImageDataGenerator(\n",
    "    rescale=1./255, #Normalisation \n",
    "    rotation_range=20,  #Rotation aléatoire des images de 20 degrés\n",
    "    zoom_range = 0.1, #Zoom aléatoire\n",
    "    height_shift_range=0.1, #Décalage vertical aléatoire\n",
    "    width_shift_range=0.1, #Décalage horizontal aléatoire\n",
    "    horizontal_flip=True, #Pivoter horizontalement \n",
    "    validation_split=0.1 #10 % des images contenu dans le dossier train sont réservé pour le jeu de validation\n",
    ")"
   ]
  },
  {
   "cell_type": "code",
   "execution_count": 4,
   "metadata": {
    "colab": {
     "base_uri": "https://localhost:8080/"
    },
    "id": "99dQVcbZ4KP-",
    "outputId": "f3d76231-d60d-4f0e-dd81-01b9dd39c947"
   },
   "outputs": [
    {
     "name": "stdout",
     "output_type": "stream",
     "text": [
      "Found 4695 images belonging to 2 classes.\n"
     ]
    }
   ],
   "source": [
    "train_data = train_datagen.flow_from_directory(\n",
    "    train_dir, #Chemin vers le dossier train\n",
    "    target_size=(224, 224), #Taille des images d'entrée, chaque image est redimensionné 224*224\n",
    "    class_mode=\"categorical\", #Theoriquement devrait fonctionner avec binary mais en application fonctionne uniquement avec categorical\n",
    "    batch_size=32, #Nombre d'image à générer par batch \n",
    "    color_mode=\"grayscale\",#Nos images sont en noire et blanc\n",
    "    subset=\"training\",\n",
    "    shuffle=True, #Mélange l'ordre des images générés\n",
    "    seed=42)"
   ]
  },
  {
   "cell_type": "code",
   "execution_count": 5,
   "metadata": {
    "colab": {
     "base_uri": "https://localhost:8080/"
    },
    "id": "a__1p7jz4KSl",
    "outputId": "1758fafc-d3b4-44ec-b6f6-101eea8a0d50"
   },
   "outputs": [
    {
     "name": "stdout",
     "output_type": "stream",
     "text": [
      "Found 521 images belonging to 2 classes.\n"
     ]
    }
   ],
   "source": [
    "val_data = train_datagen.flow_from_directory(\n",
    "    train_dir, #Nous n'utilisons pas les 16 images contenues dans le dossier validation\n",
    "    target_size=(224, 224),\n",
    "    class_mode=\"categorical\",\n",
    "    batch_size=32,\n",
    "    color_mode=\"grayscale\",\n",
    "    subset=\"validation\", #sous ensemble de validation\n",
    "    shuffle=True,\n",
    "    seed=42)"
   ]
  },
  {
   "cell_type": "code",
   "execution_count": null,
   "metadata": {},
   "outputs": [],
   "source": [
    "labels = list(val_data.classes)\n",
    "print(\"Nombre image poumons normaux : {}\".format(labels.count(0)))\n",
    "print(\"Nombre image pneumonie : {}\".format(labels.count(1)))"
   ]
  },
  {
   "cell_type": "code",
   "execution_count": 6,
   "metadata": {
    "id": "UH0kZEuc4KU7"
   },
   "outputs": [],
   "source": [
    "test_datagen = ImageDataGenerator(\n",
    "    rescale=1./255\n",
    ")"
   ]
  },
  {
   "cell_type": "code",
   "execution_count": 7,
   "metadata": {
    "colab": {
     "base_uri": "https://localhost:8080/"
    },
    "id": "bEiEQ6Fj4ZxP",
    "outputId": "4c62c388-9bfb-4d73-a2de-06fae4c12e3a"
   },
   "outputs": [
    {
     "name": "stdout",
     "output_type": "stream",
     "text": [
      "Found 624 images belonging to 2 classes.\n"
     ]
    }
   ],
   "source": [
    "test_data = test_datagen.flow_from_directory(\n",
    "    test_dir,\n",
    "    target_size=(224, 224),\n",
    "    class_mode=\"categorical\",\n",
    "    batch_size=1, #Pour le test on génére 1 image par batch\n",
    "    color_mode=\"grayscale\",\n",
    "    shuffle=False, #génére les images dans l'ordre pour le test\n",
    "    seed=42)"
   ]
  },
  {
   "cell_type": "code",
   "execution_count": 8,
   "metadata": {
    "colab": {
     "base_uri": "https://localhost:8080/"
    },
    "id": "iRcoDxug4ZzT",
    "outputId": "afdb00f9-cf6e-449a-acb5-37b071f19b5d"
   },
   "outputs": [
    {
     "name": "stdout",
     "output_type": "stream",
     "text": [
      "Model: \"sequential\"\n",
      "_________________________________________________________________\n",
      "Layer (type)                 Output Shape              Param #   \n",
      "=================================================================\n",
      "conv2d (Conv2D)              (None, 224, 224, 32)      320       \n",
      "_________________________________________________________________\n",
      "max_pooling2d (MaxPooling2D) (None, 112, 112, 32)      0         \n",
      "_________________________________________________________________\n",
      "dropout (Dropout)            (None, 112, 112, 32)      0         \n",
      "_________________________________________________________________\n",
      "conv2d_1 (Conv2D)            (None, 112, 112, 64)      18496     \n",
      "_________________________________________________________________\n",
      "max_pooling2d_1 (MaxPooling2 (None, 56, 56, 64)        0         \n",
      "_________________________________________________________________\n",
      "dropout_1 (Dropout)          (None, 56, 56, 64)        0         \n",
      "_________________________________________________________________\n",
      "conv2d_2 (Conv2D)            (None, 56, 56, 64)        36928     \n",
      "_________________________________________________________________\n",
      "max_pooling2d_2 (MaxPooling2 (None, 28, 28, 64)        0         \n",
      "_________________________________________________________________\n",
      "dropout_2 (Dropout)          (None, 28, 28, 64)        0         \n",
      "_________________________________________________________________\n",
      "flatten (Flatten)            (None, 50176)             0         \n",
      "_________________________________________________________________\n",
      "dense (Dense)                (None, 64)                3211328   \n",
      "_________________________________________________________________\n",
      "dropout_3 (Dropout)          (None, 64)                0         \n",
      "_________________________________________________________________\n",
      "dense_1 (Dense)              (None, 2)                 130       \n",
      "=================================================================\n",
      "Total params: 3,267,202\n",
      "Trainable params: 3,267,202\n",
      "Non-trainable params: 0\n",
      "_________________________________________________________________\n"
     ]
    }
   ],
   "source": [
    "model = Sequential()\n",
    "\n",
    "model.add(Conv2D(32, kernel_size=(3, 3), activation='relu', input_shape=(224, 224, 1), padding='same'))\n",
    "model.add(MaxPooling2D(pool_size=(2, 2), padding='same'))\n",
    "model.add(Dropout(0.4))\n",
    "\n",
    "model.add(Conv2D(64, kernel_size=(3, 3), activation='relu', padding='same'))\n",
    "model.add(MaxPooling2D(pool_size=(2, 2), padding='same'))\n",
    "model.add(Dropout(0.4))\n",
    "\n",
    "model.add(Conv2D(64, kernel_size=(3, 3), activation='relu', padding='same'))\n",
    "model.add(MaxPooling2D(pool_size=(2, 2), padding='same'))\n",
    "model.add(Dropout(0.4))\n",
    "\n",
    "model.add(Flatten())\n",
    "model.add(Dense(64, activation='relu'))\n",
    "model.add(Dropout(0.4))\n",
    "model.add(Dense(2, activation='softmax'))\n",
    "\n",
    "model.summary()"
   ]
  },
  {
   "cell_type": "code",
   "execution_count": 9,
   "metadata": {
    "id": "JG_awyeO4Z1n"
   },
   "outputs": [],
   "source": [
    "model.compile(loss='categorical_crossentropy', optimizer='adam', metrics=['accuracy'])"
   ]
  },
  {
   "cell_type": "code",
   "execution_count": 10,
   "metadata": {
    "colab": {
     "base_uri": "https://localhost:8080/"
    },
    "id": "ppkKygCI4h-u",
    "outputId": "eda785d2-f6d7-4a70-afab-c591ba70e2bb"
   },
   "outputs": [
    {
     "name": "stderr",
     "output_type": "stream",
     "text": [
      "/usr/local/lib/python3.7/dist-packages/keras/engine/training.py:1972: UserWarning: `Model.fit_generator` is deprecated and will be removed in a future version. Please use `Model.fit`, which supports generators.\n",
      "  warnings.warn('`Model.fit_generator` is deprecated and '\n"
     ]
    },
    {
     "name": "stdout",
     "output_type": "stream",
     "text": [
      "Epoch 1/50\n",
      "147/147 [==============================] - 101s 478ms/step - loss: 0.5132 - accuracy: 0.7576 - val_loss: 0.3777 - val_accuracy: 0.7812\n",
      "Epoch 2/50\n",
      "147/147 [==============================] - 72s 491ms/step - loss: 0.3065 - accuracy: 0.8552 - val_loss: 0.3346 - val_accuracy: 0.8407\n",
      "Epoch 3/50\n",
      "147/147 [==============================] - 74s 501ms/step - loss: 0.2857 - accuracy: 0.8748 - val_loss: 0.3376 - val_accuracy: 0.8215\n",
      "Epoch 4/50\n",
      "147/147 [==============================] - 71s 484ms/step - loss: 0.2648 - accuracy: 0.8950 - val_loss: 0.2979 - val_accuracy: 0.8541\n",
      "Epoch 5/50\n",
      "147/147 [==============================] - 71s 481ms/step - loss: 0.2388 - accuracy: 0.9120 - val_loss: 0.2594 - val_accuracy: 0.8733\n",
      "Epoch 6/50\n",
      "147/147 [==============================] - 70s 473ms/step - loss: 0.2439 - accuracy: 0.9061 - val_loss: 0.2474 - val_accuracy: 0.9136\n",
      "Epoch 7/50\n",
      "147/147 [==============================] - 70s 476ms/step - loss: 0.2335 - accuracy: 0.9159 - val_loss: 0.2390 - val_accuracy: 0.8983\n",
      "Epoch 8/50\n",
      "147/147 [==============================] - 70s 474ms/step - loss: 0.2169 - accuracy: 0.9195 - val_loss: 0.2568 - val_accuracy: 0.8656\n",
      "Epoch 9/50\n",
      "147/147 [==============================] - 71s 484ms/step - loss: 0.2224 - accuracy: 0.9208 - val_loss: 0.2511 - val_accuracy: 0.9194\n",
      "Epoch 10/50\n",
      "147/147 [==============================] - 72s 486ms/step - loss: 0.2081 - accuracy: 0.9261 - val_loss: 0.2385 - val_accuracy: 0.8848\n",
      "Epoch 11/50\n",
      "147/147 [==============================] - 71s 480ms/step - loss: 0.2030 - accuracy: 0.9269 - val_loss: 0.2379 - val_accuracy: 0.8983\n",
      "Epoch 12/50\n",
      "147/147 [==============================] - 70s 478ms/step - loss: 0.1789 - accuracy: 0.9365 - val_loss: 0.2131 - val_accuracy: 0.9002\n",
      "Epoch 13/50\n",
      "147/147 [==============================] - 70s 476ms/step - loss: 0.1787 - accuracy: 0.9338 - val_loss: 0.2236 - val_accuracy: 0.8964\n",
      "Epoch 14/50\n",
      "147/147 [==============================] - 72s 487ms/step - loss: 0.1894 - accuracy: 0.9321 - val_loss: 0.2402 - val_accuracy: 0.8925\n",
      "Epoch 15/50\n",
      "147/147 [==============================] - 69s 471ms/step - loss: 0.1771 - accuracy: 0.9372 - val_loss: 0.1960 - val_accuracy: 0.9194\n",
      "Epoch 16/50\n",
      "147/147 [==============================] - 69s 472ms/step - loss: 0.1731 - accuracy: 0.9391 - val_loss: 0.1933 - val_accuracy: 0.9194\n",
      "Epoch 17/50\n",
      "147/147 [==============================] - 69s 469ms/step - loss: 0.1661 - accuracy: 0.9387 - val_loss: 0.1593 - val_accuracy: 0.9443\n",
      "Epoch 18/50\n",
      "147/147 [==============================] - 69s 469ms/step - loss: 0.1564 - accuracy: 0.9436 - val_loss: 0.2286 - val_accuracy: 0.9040\n",
      "Epoch 19/50\n",
      "147/147 [==============================] - 70s 473ms/step - loss: 0.1592 - accuracy: 0.9421 - val_loss: 0.2190 - val_accuracy: 0.9002\n",
      "Epoch 20/50\n",
      "147/147 [==============================] - 69s 469ms/step - loss: 0.1603 - accuracy: 0.9408 - val_loss: 0.2152 - val_accuracy: 0.9060\n"
     ]
    }
   ],
   "source": [
    "history = model.fit_generator(generator=train_data,  \n",
    "                    epochs=50, \n",
    "                    validation_data=val_data,\n",
    "                    callbacks=[tf.keras.callbacks.EarlyStopping(monitor=\"val_loss\",patience=3)])"
   ]
  },
  {
   "cell_type": "code",
   "execution_count": 11,
   "metadata": {
    "colab": {
     "base_uri": "https://localhost:8080/"
    },
    "id": "nTSnZtj-4iBQ",
    "outputId": "5eaffc12-e59c-4e04-b177-e50312dc0ded"
   },
   "outputs": [
    {
     "name": "stdout",
     "output_type": "stream",
     "text": [
      "624/624 [==============================] - 7s 11ms/step - loss: 0.3863 - accuracy: 0.8558\n",
      "Test Loss : 0.39\n",
      "Test Accuracy : 85.58\n"
     ]
    }
   ],
   "source": [
    "resultat = model.evaluate(test_data)\n",
    "print(\"Test Loss : {:.2f}\".format(resultat[0]))\n",
    "print(\"Test Accuracy : {:.2f}\".format(resultat[1]*100))"
   ]
  },
  {
   "cell_type": "code",
   "execution_count": 12,
   "metadata": {
    "id": "uzzdgmHV4iEA"
   },
   "outputs": [],
   "source": [
    "def plot_acc(train) :\n",
    "    accuracy = train.history[\"accuracy\"]\n",
    "    val_accuracy = train.history[\"val_accuracy\"]\n",
    "    epochs = range(len(accuracy))\n",
    "    plt.plot(epochs, accuracy, \"b\", label=\"accuracy apprentissage\")\n",
    "    plt.plot(epochs, val_accuracy, \"r\", label=\"accuracy validation\")\n",
    "    plt.title(\"Accuracy\")\n",
    "    plt.legend()\n",
    "    plt.show()"
   ]
  },
  {
   "cell_type": "code",
   "execution_count": 13,
   "metadata": {
    "id": "tVYyL0Ph4nu6"
   },
   "outputs": [],
   "source": [
    "def plot_loss(train) :\n",
    "    loss = train.history[\"loss\"]\n",
    "    val_loss = train.history[\"val_loss\"]\n",
    "    epochs = range(len(loss))\n",
    "    plt.plot(epochs, loss, \"b\", label=\"Loss apprentissage\")\n",
    "    plt.plot(epochs, val_loss, \"r\", label=\"Loss validation\")\n",
    "    plt.title(\"Loss\")\n",
    "    plt.legend()\n",
    "    plt.show()"
   ]
  },
  {
   "cell_type": "code",
   "execution_count": 14,
   "metadata": {
    "colab": {
     "base_uri": "https://localhost:8080/",
     "height": 281
    },
    "id": "07wXK7Ak4nxe",
    "outputId": "c8ae813d-1baa-4a2f-c06c-c243dd9de4aa"
   },
   "outputs": [
    {
     "data": {
      "image/png": "[encoded data removed]",
      "text/plain": [
       "<Figure size 432x288 with 1 Axes>"
      ]
     },
     "metadata": {
      "needs_background": "light"
     },
     "output_type": "display_data"
    }
   ],
   "source": [
    "plot_acc(history)"
   ]
  },
  {
   "cell_type": "code",
   "execution_count": 15,
   "metadata": {
    "colab": {
     "base_uri": "https://localhost:8080/",
     "height": 281
    },
    "id": "selOEroK4n0R",
    "outputId": "0c865400-3c29-4467-be3e-838853a80c70"
   },
   "outputs": [
    {
     "data": {
      "image/png": "[encoded data removed]",
      "text/plain": [
       "<Figure size 432x288 with 1 Axes>"
      ]
     },
     "metadata": {
      "needs_background": "light"
     },
     "output_type": "display_data"
    }
   ],
   "source": [
    "plot_loss(history)"
   ]
  }
 ],
 "metadata": {
  "accelerator": "GPU",
  "colab": {
   "collapsed_sections": [],
   "name": "Jamay_Goulancourt.ipynb",
   "provenance": []
  },
  "kernelspec": {
   "display_name": "Python 3",
   "language": "python",
   "name": "python3"
  },
  "language_info": {
   "codemirror_mode": {
    "name": "ipython",
    "version": 3
   },
   "file_extension": ".py",
   "mimetype": "text/x-python",
   "name": "python",
   "nbconvert_exporter": "python",
   "pygments_lexer": "ipython3",
   "version": "3.6.13"
  }
 },
 "nbformat": 4,
 "nbformat_minor": 1
}
